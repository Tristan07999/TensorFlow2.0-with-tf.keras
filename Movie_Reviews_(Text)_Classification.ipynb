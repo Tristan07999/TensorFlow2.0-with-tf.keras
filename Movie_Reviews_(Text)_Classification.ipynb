{
  "nbformat": 4,
  "nbformat_minor": 0,
  "metadata": {
    "colab": {
      "name": "Movie Reviews (Text) Classification.ipynb",
      "version": "0.3.2",
      "provenance": [],
      "include_colab_link": true
    },
    "kernelspec": {
      "name": "python3",
      "display_name": "Python 3"
    }
  },
  "cells": [
    {
      "cell_type": "markdown",
      "metadata": {
        "id": "view-in-github",
        "colab_type": "text"
      },
      "source": [
        "<a href=\"https://colab.research.google.com/github/Tristan07999/TensorFlow2.0-with-tf.keras/blob/master/Movie_Reviews_(Text)_Classification.ipynb\" target=\"_parent\"><img src=\"https://colab.research.google.com/assets/colab-badge.svg\" alt=\"Open In Colab\"/></a>"
      ]
    },
    {
      "cell_type": "code",
      "metadata": {
        "id": "woS8e0MIEbbL",
        "colab_type": "code",
        "colab": {
          "base_uri": "https://localhost:8080/",
          "height": 85
        },
        "outputId": "7be5e007-2de4-4f81-bf95-92870d711c9f"
      },
      "source": [
        "#3RD SEP ZIQUAN LIN\n",
        "\n",
        "#Using IMDB dataset contains the text of 50000 moive reviews \n",
        "#25000 reviews of training and 25000 reviews of testing\n",
        "#For more advanced text classification, see MLCC text classification guide\n",
        "\n",
        "from __future__ import absolute_import, division, print_function, unicode_literals\n",
        "\n",
        "import numpy as np\n",
        "\n",
        "try:\n",
        "  %tensorflow_version 2.x\n",
        "except Exception:\n",
        "  pass\n",
        "import tensorflow as tf\n",
        "\n",
        "import tensorflow_hub as hub\n",
        "import tensorflow_datasets as tfds\n",
        "\n",
        "print('version:', tf.__version__)\n",
        "print('eager mode:', tf.executing_eagerly())\n",
        "print('hub version:', hub.__version__)\n",
        "print('GPU is', 'available' if tf.test.is_gpu_available() else 'Not availavle')\n"
      ],
      "execution_count": 4,
      "outputs": [
        {
          "output_type": "stream",
          "text": [
            "version: 2.0.0-rc0\n",
            "eager mode: True\n",
            "hub version: 0.5.0\n",
            "GPU is Not availavle\n"
          ],
          "name": "stdout"
        }
      ]
    }
  ]
}
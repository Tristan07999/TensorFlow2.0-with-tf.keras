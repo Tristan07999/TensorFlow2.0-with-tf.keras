{
  "nbformat": 4,
  "nbformat_minor": 0,
  "metadata": {
    "colab": {
      "name": "Movie Reviews (Text) Classification.ipynb",
      "version": "0.3.2",
      "provenance": [],
      "include_colab_link": true
    },
    "kernelspec": {
      "name": "python3",
      "display_name": "Python 3"
    }
  },
  "cells": [
    {
      "cell_type": "markdown",
      "metadata": {
        "id": "view-in-github",
        "colab_type": "text"
      },
      "source": [
        "<a href=\"https://colab.research.google.com/github/Tristan07999/TensorFlow2.0-with-tf.keras/blob/master/Movie_Reviews_(Text)_Classification.ipynb\" target=\"_parent\"><img src=\"https://colab.research.google.com/assets/colab-badge.svg\" alt=\"Open In Colab\"/></a>"
      ]
    },
    {
      "cell_type": "code",
      "metadata": {
        "id": "woS8e0MIEbbL",
        "colab_type": "code",
        "colab": {
          "base_uri": "https://localhost:8080/",
          "height": 207
        },
        "outputId": "366c955d-bee1-4d67-e52d-79c884c20e59"
      },
      "source": [
        "#3RD SEP ZIQUAN LIN\n",
        "\n",
        "#Using IMDB dataset contains the text of 50000 moive reviews \n",
        "#25000 reviews of training and 25000 reviews of testing\n",
        "#For more advanced text classification, see MLCC text classification guide\n",
        "\n",
        "from __future__ import absolute_import, division, print_function, unicode_literals\n",
        "\n",
        "import numpy as np\n",
        "\n",
        "try:\n",
        "  %tensorflow_version 2.x\n",
        "except Exception:\n",
        "  pass\n",
        "import tensorflow as tf\n",
        "\n",
        "import tensorflow_hub as hub\n",
        "import tensorflow_datasets as tfds\n",
        "\n",
        "print('version:', tf.__version__)\n",
        "print('eager mode:', tf.executing_eagerly())\n",
        "print('hub version:', hub.__version__)\n",
        "print('GPU is', 'available' if tf.test.is_gpu_available() else 'Not availavle')\n",
        "\n",
        "!pip install -U tensorflow_hub==0.6.0"
      ],
      "execution_count": 1,
      "outputs": [
        {
          "output_type": "stream",
          "text": [
            "TensorFlow 2.x selected.\n",
            "version: 2.0.0-rc0\n",
            "eager mode: True\n",
            "hub version: 0.6.0\n",
            "GPU is Not availavle\n",
            "Requirement already up-to-date: tensorflow_hub==0.6.0 in /usr/local/lib/python3.6/dist-packages (0.6.0)\n",
            "Requirement already satisfied, skipping upgrade: numpy>=1.12.0 in /tensorflow-2.0.0-rc0/python3.6 (from tensorflow_hub==0.6.0) (1.17.1)\n",
            "Requirement already satisfied, skipping upgrade: six>=1.10.0 in /tensorflow-2.0.0-rc0/python3.6 (from tensorflow_hub==0.6.0) (1.12.0)\n",
            "Requirement already satisfied, skipping upgrade: protobuf>=3.4.0 in /tensorflow-2.0.0-rc0/python3.6 (from tensorflow_hub==0.6.0) (3.9.1)\n",
            "Requirement already satisfied, skipping upgrade: setuptools in /tensorflow-2.0.0-rc0/python3.6 (from protobuf>=3.4.0->tensorflow_hub==0.6.0) (41.2.0)\n"
          ],
          "name": "stdout"
        }
      ]
    },
    {
      "cell_type": "code",
      "metadata": {
        "id": "NzYBqTnTHH4k",
        "colab_type": "code",
        "colab": {}
      },
      "source": [
        "#Download the IMDB dataset\n",
        "train_validation_split = tfds.Split.TRAIN.subsplit([6, 4])\n",
        "\n",
        "(train_data, validation_data), test_data = tfds.load(\n",
        "  name = 'imdb_reviews', \n",
        "  split = (train_validation_split, tfds.Split.TEST), \n",
        "  as_supervised = True)"
      ],
      "execution_count": 0,
      "outputs": []
    },
    {
      "cell_type": "code",
      "metadata": {
        "id": "BqpbjhSwIZId",
        "colab_type": "code",
        "colab": {
          "base_uri": "https://localhost:8080/",
          "height": 241
        },
        "outputId": "5c3330ab-c95d-4674-b5f8-133db2abcd50"
      },
      "source": [
        "#Explore  and understand the format of data\n",
        "#print first 10 examples\n",
        "train_examples_batch, train_labels_batch = next(iter(train_data.batch(10)))\n",
        "train_examples_batch"
      ],
      "execution_count": 3,
      "outputs": [
        {
          "output_type": "execute_result",
          "data": {
            "text/plain": [
              "<tf.Tensor: id=224, shape=(10,), dtype=string, numpy=\n",
              "array([b\"As a lifelong fan of Dickens, I have invariably been disappointed by adaptations of his novels.<br /><br />Although his works presented an extremely accurate re-telling of human life at every level in Victorian Britain, throughout them all was a pervasive thread of humour that could be both playful or sarcastic as the narrative dictated. In a way, he was a literary caricaturist and cartoonist. He could be serious and hilarious in the same sentence. He pricked pride, lampooned arrogance, celebrated modesty, and empathised with loneliness and poverty. It may be a clich\\xc3\\xa9, but he was a people's writer.<br /><br />And it is the comedy that is so often missing from his interpretations. At the time of writing, Oliver Twist is being dramatised in serial form on BBC television. All of the misery and cruelty is their, but non of the humour, irony, and savage lampoonery. The result is just a dark, dismal experience: the story penned by a journalist rather than a novelist. It's not really Dickens at all.<br /><br />'Oliver!', on the other hand, is much closer to the mark. The mockery of officialdom is perfectly interpreted, from the blustering beadle to the drunken magistrate. The classic stand-off between the beadle and Mr Brownlow, in which the law is described as 'a ass, a idiot' couldn't have been better done. Harry Secombe is an ideal choice.<br /><br />But the blinding cruelty is also there, the callous indifference of the state, the cold, hunger, poverty and loneliness are all presented just as surely as The Master would have wished.<br /><br />And then there is crime. Ron Moody is a treasure as the sleazy Jewish fence, whilst Oliver Reid has Bill Sykes to perfection.<br /><br />Perhaps not surprisingly, Lionel Bart - himself a Jew from London's east-end - takes a liberty with Fagin by re-interpreting him as a much more benign fellow than was Dicken's original. In the novel, he was utterly ruthless, sending some of his own boys to the gallows in order to protect himself (though he was also caught and hanged). Whereas in the movie, he is presented as something of a wayward father-figure, a sort of charitable thief rather than a corrupter of children, the latter being a long-standing anti-semitic sentiment. Otherwise, very few liberties are taken with Dickens's original. All of the most memorable elements are included. Just enough menace and violence is retained to ensure narrative fidelity whilst at the same time allowing for children' sensibilities. Nancy is still beaten to death, Bullseye narrowly escapes drowning, and Bill Sykes gets a faithfully graphic come-uppance.<br /><br />Every song is excellent, though they do incline towards schmaltz. Mark Lester mimes his wonderfully. Both his and my favourite scene is the one in which the world comes alive to 'who will buy'. It's schmaltzy, but it's Dickens through and through.<br /><br />I could go on. I could commend the wonderful set-pieces, the contrast of the rich and poor. There is top-quality acting from more British regulars than you could shake a stick at.<br /><br />I ought to give it 10 points, but I'm feeling more like Scrooge today. Soak it up with your Christmas dinner. No original has been better realised.\",\n",
              "       b\"Oh yeah! Jenna Jameson did it again! Yeah Baby! This movie rocks. It was one of the 1st movies i saw of her. And i have to say i feel in love with her, she was great in this move.<br /><br />Her performance was outstanding and what i liked the most was the scenery and the wardrobe it was amazing you can tell that they put a lot into the movie the girls cloth were amazing.<br /><br />I hope this comment helps and u can buy the movie, the storyline is awesome is very unique and i'm sure u are going to like it. Jenna amazed us once more and no wonder the movie won so many awards. Her make-up and wardrobe is very very sexy and the girls on girls scene is amazing. specially the one where she looks like an angel. It's a must see and i hope u share my interests\",\n",
              "       b\"I saw this film on True Movies (which automatically made me sceptical) but actually - it was good. Why? Not because of the amazing plot twists or breathtaking dialogue (of which there is little) but because actually, despite what people say I thought the film was accurate in it's depiction of teenagers dealing with pregnancy.<br /><br />It's NOT Dawson's Creek, they're not graceful, cool witty characters who breeze through sexuality with effortless knowledge. They're kids and they act like kids would. <br /><br />They're blunt, awkward and annoyingly confused about everything. Yes, this could be by accident and they could just be bad actors but I don't think so. Dermot Mulroney gives (when not trying to be cool) a very believable performance and I loved him for it. Patricia Arquette IS whiny and annoying, but she was pregnant and a teenagers? The combination of the two isn't exactly lavender on your pillow. The plot was VERY predictable and but so what? I believed them, his stress and inability to cope - her brave, yet slightly misguided attempts to bring them closer together. I think the characters, acted by anyone else, WOULD indeed have been annoying and unbelievable but they weren't. It reflects the surreality of the situation they're in, that he's sitting in class and she walks on campus with the baby. I felt angry at her for that, I felt angry at him for being such a child and for blaming her. I felt it all.<br /><br />In the end, I loved it and would recommend it.<br /><br />Watch out for the scene where Dermot Mulroney runs from the disastrous counselling session - career performance.\",\n",
              "       b'This was a wonderfully clever and entertaining movie that I shall never tire of watching many, many times. The casting was magnificent in matching up the young with the older characters. There are those of us out here who really do appreciate good actors and an intelligent story format. As for Judi Dench, she is beautiful and a gift to any kind of production in which she stars. I always make a point to see Judi Dench in all her performances. She is a superb actress and a pleasure to watch as each transformation of her character comes to life. I can only be grateful when I see such an outstanding picture for most of the motion pictures made more recently lack good characters, good scripts and good acting. The movie public needs heroes, not deviant manikins, who lack ingenuity and talent. How wonderful to see old favorites like Leslie Caron, Olympia Dukakis and Cleo Laine. I would like to see this movie win the awards it deserves. Thank you again for a tremendous night of entertainment. I congratulate the writer, director, producer, and all those who did such a fine job.',\n",
              "       b'I have no idea what the other reviewer is talking about- this was a wonderful movie, and created a sense of the era that feels like time travel. The characters are truly young, Mary is a strong match for Byron, Claire is juvenile and a tad annoying, Polidori is a convincing beaten-down sycophant... all are beautiful, curious, and decadent... not the frightening wrecks they are in Gothic.<br /><br />Gothic works as an independent piece of shock film, and I loved it for different reasons, but this works like a Merchant and Ivory film, and was from my readings the best capture of what the summer must have felt like. Romantic, yes, but completely rekindles my interest in the lives of Shelley and Byron every time I think about the film. One of my all-time favorites.',\n",
              "       b\"This was soul-provoking! I am an Iranian, and living in th 21st century, I didn't know that such big tribes have been living in such conditions at the time of my grandfather!<br /><br />You see that today, or even in 1925, on one side of the world a lady or a baby could have everything served for him or her clean and on-demand, but here 80 years ago, people ventured their life to go to somewhere with more grass. It's really interesting that these Persians bear those difficulties to find pasture for their sheep, but they lose many the sheep on their way.<br /><br />I praise the Americans who accompanied this tribe, they were as tough as Bakhtiari people.\",\n",
              "       b'Just because someone is under the age of 10 does not mean they are stupid. If your child likes this film you\\'d better have him/her tested. I am continually amazed at how so many people can be involved in something that turns out so bad. This \"film\" is a showcase for digital wizardry AND NOTHING ELSE. The writing is horrid. I can\\'t remember when I\\'ve heard such bad dialogue. The songs are beyond wretched. The acting is sub-par but then the actors were not given much. Who decided to employ Joey Fatone? He cannot sing and he is ugly as sin.<br /><br />The worst thing is the obviousness of it all. It is as if the writers went out of their way to make it all as stupid as possible. Great children\\'s movies are wicked, smart and full of wit - films like Shrek and Toy Story in recent years, Willie Wonka and The Witches to mention two of the past. But in the continual dumbing-down of American more are flocking to dreck like Finding Nemo (yes, that\\'s right), the recent Charlie & The Chocolate Factory and eye-crossing trash like Red Riding Hood.',\n",
              "       b\"I absolutely LOVED this movie when I was a kid. I cried every time I watched it. It wasn't weird to me. I totally identified with the characters. I would love to see it again (and hope I wont be disappointed!). Pufnstuf rocks!!!! I was really drawn in to the fantasy world. And to me the movie was loooong. I wonder if I ever saw the series and have confused them? The acting I thought was strong. I loved Jack Wilde. He was so dreamy to an 10 year old (when I first saw the movie, not in 1970. I can still remember the characters vividly. The flute was totally believable and I can still 'feel' the evil woods. Witchy poo was scary - I wouldn't want to cross her path.\",\n",
              "       b'A very close and sharp discription of the bubbling and dynamic emotional world of specialy one 18year old guy, that makes his first experiences in his gay love to an other boy, during an vacation with a part of his family.<br /><br />I liked this film because of his extremly clear and surrogated storytelling , with all this \"Sound-close-ups\" and quiet moments wich had been full of intensive moods.<br /><br />',\n",
              "       b\"This is the most depressing film I have ever seen. I first saw it as a child and even thinking about it now really upsets me. I know it was set in a time when life was hard and I know these people were poor and the crops were vital. Yes, I get all that. What I find hard to take is I can't remember one single light moment in the entire film. Maybe it was true to life, I don't know. I'm quite sure the acting was top notch and the direction and quality of filming etc etc was wonderful and I know that every film can't have a happy ending but as a family film it is dire in my opinion.<br /><br />I wouldn't recommend it to anyone who wants to be entertained by a film. I can't stress enough how this film affected me as a child. I was talking about it recently and all the sad memories came flooding back. I think it would have all but the heartless reaching for the Prozac.\"],\n",
              "      dtype=object)>"
            ]
          },
          "metadata": {
            "tags": []
          },
          "execution_count": 3
        }
      ]
    },
    {
      "cell_type": "code",
      "metadata": {
        "id": "C4JFQ57xJTvs",
        "colab_type": "code",
        "colab": {
          "base_uri": "https://localhost:8080/",
          "height": 34
        },
        "outputId": "92d03fa3-0188-4282-e8ba-baf932e724d8"
      },
      "source": [
        "#first 10 labels\n",
        "train_labels_batch"
      ],
      "execution_count": 4,
      "outputs": [
        {
          "output_type": "execute_result",
          "data": {
            "text/plain": [
              "<tf.Tensor: id=225, shape=(10,), dtype=int64, numpy=array([1, 1, 1, 1, 1, 1, 0, 1, 1, 0])>"
            ]
          },
          "metadata": {
            "tags": []
          },
          "execution_count": 4
        }
      ]
    },
    {
      "cell_type": "code",
      "metadata": {
        "id": "n1XaGeqGJr9F",
        "colab_type": "code",
        "colab": {
          "base_uri": "https://localhost:8080/",
          "height": 255
        },
        "outputId": "91507225-2e65-40c1-9a8f-fec2b5bbaec7"
      },
      "source": [
        "#Build the model\n",
        "#Three main architecture decisions: \n",
        "#How to represent the text?\n",
        "#How many layers to use in the model?\n",
        "#Hoe many hidden units to use for each layer?\n",
        "\n",
        "#Input data: sentence; Labels 0 or 1\n",
        "#One way to represent the text is to convert sentence into embeddeding vectors\n",
        "#using pre-trained text emdedding model from TensorFlow Hub\n",
        "\n",
        "embedding = \"https://tfhub.dev/google/tf2-preview/gnews-swivel-20dim/1\"\n",
        "hub_layer = hub.KerasLayer(embedding, input_shape=[], \n",
        "                           dtype=tf.string, trainable=True)\n",
        "hub_layer(train_examples_batch[:3])\n",
        "\n",
        "#This code was broken because of old version of tf_hub 0.5.0 so I installed 0.6.0 which is the new one"
      ],
      "execution_count": 5,
      "outputs": [
        {
          "output_type": "execute_result",
          "data": {
            "text/plain": [
              "<tf.Tensor: id=405, shape=(3, 20), dtype=float32, numpy=\n",
              "array([[ 3.9819887 , -4.4838037 ,  5.177359  , -2.3643482 , -3.2938678 ,\n",
              "        -3.5364532 , -2.4786978 ,  2.5525482 ,  6.688532  , -2.3076782 ,\n",
              "        -1.9807833 ,  1.1315885 , -3.0339816 , -0.7604128 , -5.743445  ,\n",
              "         3.4242578 ,  4.790099  , -4.03061   , -5.992149  , -1.7297493 ],\n",
              "       [ 3.4232912 , -4.230874  ,  4.1488533 , -0.29553518, -6.802391  ,\n",
              "        -2.5163853 , -4.4002395 ,  1.905792  ,  4.7512794 , -0.40538004,\n",
              "        -4.3401685 ,  1.0361497 ,  0.9744097 ,  0.71507156, -6.2657013 ,\n",
              "         0.16533905,  4.560262  , -1.3106939 , -3.1121316 , -2.1338716 ],\n",
              "       [ 3.8508697 , -5.003031  ,  4.8700504 , -0.04324996, -5.893603  ,\n",
              "        -5.2983093 , -4.004676  ,  4.1236343 ,  6.267754  ,  0.11632943,\n",
              "        -3.5934832 ,  0.8023905 ,  0.56146765,  0.9192484 , -7.3066816 ,\n",
              "         2.8202746 ,  6.2000837 , -3.5709393 , -4.564525  , -2.305622  ]],\n",
              "      dtype=float32)>"
            ]
          },
          "metadata": {
            "tags": []
          },
          "execution_count": 5
        }
      ]
    },
    {
      "cell_type": "code",
      "metadata": {
        "id": "tnBfb49SNWHa",
        "colab_type": "code",
        "colab": {
          "base_uri": "https://localhost:8080/",
          "height": 255
        },
        "outputId": "380c09b8-ebf7-4dc8-8782-07fe4e6d16f1"
      },
      "source": [
        "model = tf.keras.Sequential()\n",
        "model.add(hub_layer)\n",
        "model.add(tf.keras.layers.Dense(16, activation = 'relu')) #Rectified Linear Unit (ReLU)\n",
        "model.add(tf.keras.layers.Dense(1, activation = 'sigmoid'))\n",
        "\n",
        "model.summary()"
      ],
      "execution_count": 7,
      "outputs": [
        {
          "output_type": "stream",
          "text": [
            "Model: \"sequential_1\"\n",
            "_________________________________________________________________\n",
            "Layer (type)                 Output Shape              Param #   \n",
            "=================================================================\n",
            "keras_layer (KerasLayer)     (None, 20)                400020    \n",
            "_________________________________________________________________\n",
            "dense (Dense)                (None, 16)                336       \n",
            "_________________________________________________________________\n",
            "dense_1 (Dense)              (None, 1)                 17        \n",
            "=================================================================\n",
            "Total params: 400,373\n",
            "Trainable params: 400,373\n",
            "Non-trainable params: 0\n",
            "_________________________________________________________________\n"
          ],
          "name": "stdout"
        }
      ]
    },
    {
      "cell_type": "code",
      "metadata": {
        "id": "Dj7d5DYgOXpB",
        "colab_type": "code",
        "colab": {}
      },
      "source": [
        "#Complie the model\n",
        "model.compile(optimizer = 'adam', loss = 'binary_crossentropy', metrics = ['accuracy'])\n"
      ],
      "execution_count": 0,
      "outputs": []
    },
    {
      "cell_type": "code",
      "metadata": {
        "id": "P8Fx4sr1OusJ",
        "colab_type": "code",
        "colab": {
          "base_uri": "https://localhost:8080/",
          "height": 819
        },
        "outputId": "9057f6b3-29bb-45fd-b696-fa1432caf27b"
      },
      "source": [
        "#Train the model\n",
        "history = model.fit(train_data.shuffle(10000).batch(512), epochs = 20, \n",
        "                    validation_data = validation_data.batch(512), verbose = 1)"
      ],
      "execution_count": 11,
      "outputs": [
        {
          "output_type": "stream",
          "text": [
            "Epoch 1/20\n",
            "WARNING:tensorflow:From /tensorflow-2.0.0-rc0/python3.6/tensorflow_core/python/ops/nn_impl.py:183: where (from tensorflow.python.ops.array_ops) is deprecated and will be removed in a future version.\n",
            "Instructions for updating:\n",
            "Use tf.where in 2.0, which has the same broadcast rule as np.where\n"
          ],
          "name": "stdout"
        },
        {
          "output_type": "stream",
          "text": [
            "WARNING:tensorflow:From /tensorflow-2.0.0-rc0/python3.6/tensorflow_core/python/ops/nn_impl.py:183: where (from tensorflow.python.ops.array_ops) is deprecated and will be removed in a future version.\n",
            "Instructions for updating:\n",
            "Use tf.where in 2.0, which has the same broadcast rule as np.where\n"
          ],
          "name": "stderr"
        },
        {
          "output_type": "stream",
          "text": [
            "30/30 [==============================] - 7s 233ms/step - loss: 0.9057 - accuracy: 0.5295 - val_loss: 0.0000e+00 - val_accuracy: 0.0000e+00\n",
            "Epoch 2/20\n",
            "30/30 [==============================] - 6s 209ms/step - loss: 0.6994 - accuracy: 0.6027 - val_loss: 0.6578 - val_accuracy: 0.6299\n",
            "Epoch 3/20\n",
            "30/30 [==============================] - 6s 207ms/step - loss: 0.6394 - accuracy: 0.6472 - val_loss: 0.6170 - val_accuracy: 0.6700\n",
            "Epoch 4/20\n",
            "30/30 [==============================] - 6s 211ms/step - loss: 0.5968 - accuracy: 0.6867 - val_loss: 0.5776 - val_accuracy: 0.7034\n",
            "Epoch 5/20\n",
            "30/30 [==============================] - 6s 210ms/step - loss: 0.5606 - accuracy: 0.7211 - val_loss: 0.5467 - val_accuracy: 0.7304\n",
            "Epoch 6/20\n",
            "30/30 [==============================] - 6s 211ms/step - loss: 0.5238 - accuracy: 0.7509 - val_loss: 0.5154 - val_accuracy: 0.7552\n",
            "Epoch 7/20\n",
            "30/30 [==============================] - 6s 211ms/step - loss: 0.4916 - accuracy: 0.7795 - val_loss: 0.4862 - val_accuracy: 0.7767\n",
            "Epoch 8/20\n",
            "30/30 [==============================] - 6s 210ms/step - loss: 0.4548 - accuracy: 0.8049 - val_loss: 0.4530 - val_accuracy: 0.7977\n",
            "Epoch 9/20\n",
            "30/30 [==============================] - 6s 213ms/step - loss: 0.4137 - accuracy: 0.8291 - val_loss: 0.4240 - val_accuracy: 0.8149\n",
            "Epoch 10/20\n",
            "30/30 [==============================] - 6s 210ms/step - loss: 0.3842 - accuracy: 0.8473 - val_loss: 0.3985 - val_accuracy: 0.8295\n",
            "Epoch 11/20\n",
            "30/30 [==============================] - 6s 211ms/step - loss: 0.3557 - accuracy: 0.8617 - val_loss: 0.3781 - val_accuracy: 0.8398\n",
            "Epoch 12/20\n",
            "30/30 [==============================] - 6s 211ms/step - loss: 0.3291 - accuracy: 0.8721 - val_loss: 0.3612 - val_accuracy: 0.8474\n",
            "Epoch 13/20\n",
            "30/30 [==============================] - 6s 210ms/step - loss: 0.3030 - accuracy: 0.8833 - val_loss: 0.3443 - val_accuracy: 0.8554\n",
            "Epoch 14/20\n",
            "30/30 [==============================] - 6s 213ms/step - loss: 0.2836 - accuracy: 0.8938 - val_loss: 0.3303 - val_accuracy: 0.8621\n",
            "Epoch 15/20\n",
            "30/30 [==============================] - 6s 211ms/step - loss: 0.2610 - accuracy: 0.9023 - val_loss: 0.3192 - val_accuracy: 0.8649\n",
            "Epoch 16/20\n",
            "30/30 [==============================] - 6s 210ms/step - loss: 0.2456 - accuracy: 0.9102 - val_loss: 0.3104 - val_accuracy: 0.8708\n",
            "Epoch 17/20\n",
            "30/30 [==============================] - 6s 212ms/step - loss: 0.2270 - accuracy: 0.9176 - val_loss: 0.3048 - val_accuracy: 0.8740\n",
            "Epoch 18/20\n",
            "30/30 [==============================] - 6s 209ms/step - loss: 0.2102 - accuracy: 0.9235 - val_loss: 0.3000 - val_accuracy: 0.8755\n",
            "Epoch 19/20\n",
            "30/30 [==============================] - 6s 212ms/step - loss: 0.1973 - accuracy: 0.9286 - val_loss: 0.2993 - val_accuracy: 0.8731\n",
            "Epoch 20/20\n",
            "30/30 [==============================] - 6s 209ms/step - loss: 0.1849 - accuracy: 0.9355 - val_loss: 0.2936 - val_accuracy: 0.8786\n"
          ],
          "name": "stdout"
        }
      ]
    },
    {
      "cell_type": "code",
      "metadata": {
        "id": "Kv1HfbQ0PoZa",
        "colab_type": "code",
        "colab": {
          "base_uri": "https://localhost:8080/",
          "height": 51
        },
        "outputId": "beaec6d4-de5b-400b-8423-0673bb557f03"
      },
      "source": [
        "#Evaluate the model\n",
        "results = model.evaluate(test_data.batch(512), verbose = 0)\n",
        "for name, value in zip(model.metrics_names, results):\n",
        "  print('%s: %.3f' %(name, value))"
      ],
      "execution_count": 13,
      "outputs": [
        {
          "output_type": "stream",
          "text": [
            "loss: 0.310\n",
            "accuracy: 0.868\n"
          ],
          "name": "stdout"
        }
      ]
    }
  ]
}